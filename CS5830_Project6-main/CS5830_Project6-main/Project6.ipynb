{
 "cells": [
  {
   "cell_type": "code",
   "execution_count": 1,
   "metadata": {},
   "outputs": [],
   "source": [
    "import pandas as pd\n",
    "import numpy as np\n",
    "import matplotlib.pyplot as plt\n",
    "import seaborn as sns"
   ]
  },
  {
   "cell_type": "code",
   "execution_count": 2,
   "metadata": {},
   "outputs": [],
   "source": [
    "dataframe = pd.read_csv('RRCA_baseflow.csv')"
   ]
  },
  {
   "cell_type": "code",
   "execution_count": 3,
   "metadata": {},
   "outputs": [],
   "source": [
    "dataframe['Date'] = dataframe['Date'].astype(int)-693963"
   ]
  },
  {
   "cell_type": "code",
   "execution_count": null,
   "metadata": {},
   "outputs": [],
   "source": [
    "display(dataframe)"
   ]
  },
  {
   "cell_type": "code",
   "execution_count": 5,
   "metadata": {},
   "outputs": [],
   "source": [
    "dataframe['Date'] = pd.to_datetime(dataframe['Date'], origin='1899-12-30', unit='D')"
   ]
  },
  {
   "cell_type": "code",
   "execution_count": 6,
   "metadata": {},
   "outputs": [],
   "source": [
    "dataframe['Month'] = dataframe['Date'].dt.month"
   ]
  },
  {
   "cell_type": "code",
   "execution_count": null,
   "metadata": {},
   "outputs": [],
   "source": [
    "display(dataframe)"
   ]
  },
  {
   "cell_type": "code",
   "execution_count": null,
   "metadata": {},
   "outputs": [],
   "source": [
    "# Cre\n",
    "variables = ['x', 'y', 'Evapotranspiration', 'Precipitation', 'Irrigation_pumping']\n",
    "for i, var in enumerate(variables):\n",
    "    for month in range(1, 13):\n",
    "        monthly_data = dataframe[dataframe['Month'] == month]\n",
    "\n",
    "        fig, axs = plt.subplots(5, 1, figsize=(10, 20))\n",
    "\n",
    "        for i, var in enumerate(variables):\n",
    "            axs[i].scatter(monthly_data[var], monthly_data['Observed'])\n",
    "            axs[i].set_title(f'Observed vs {var} for Month {month}')\n",
    "            axs[i].set_xlabel(var)\n",
    "            axs[i].set_ylabel('Observed')\n",
    "\n",
    "        plt.tight_layout()\n",
    "        plt.show()\n",
    "    axs[i].set_ylabel('Observed')\n",
    "\n",
    "plt.tight_layout()\n",
    "plt.show()"
   ]
  },
  {
   "cell_type": "markdown",
   "metadata": {},
   "source": [
    "# Plot baseflow over time"
   ]
  },
  {
   "cell_type": "code",
   "execution_count": null,
   "metadata": {},
   "outputs": [],
   "source": [
    "plt.figure(figsize=(10, 6))\n",
    "for month in range(1, 13):\n",
    "    monthly_data = dataframe[dataframe['Month'] == month]\n",
    "    plt.bar(monthly_data['Month'], monthly_data['Observed'])\n",
    "plt.title('Observed Baseflow Over Time')\n",
    "plt.xlabel('Date')\n",
    "plt.ylabel('Observed Baseflow')\n",
    "plt.show()"
   ]
  },
  {
   "cell_type": "code",
   "execution_count": null,
   "metadata": {},
   "outputs": [],
   "source": [
    "from scipy import stats\n",
    "month_p_value = {\n",
    "    'Evapotranspiration': [],\n",
    "    'Precipitation': [],\n",
    "    'Irrigation_pumping': []\n",
    "}\n",
    "for month in range(1, 13):\n",
    "    monthly_data = dataframe[dataframe['Month'] == month]\n",
    "    # month_p_value['x'].append(stats.pearsonr(monthly_data['Observed'], monthly_data['x'])[1])\n",
    "    # month_p_value['y'].append(stats.pearsonr(monthly_data['Observed'], monthly_data['y'])[1])\n",
    "    month_p_value['Evapotranspiration'].append(stats.pearsonr(monthly_data['Observed'], monthly_data['Evapotranspiration'])[1])\n",
    "    month_p_value['Precipitation'].append(stats.pearsonr(monthly_data['Observed'], monthly_data['Precipitation'])[1])\n",
    "    month_p_value['Irrigation_pumping'].append(stats.pearsonr(monthly_data['Observed'], monthly_data['Irrigation_pumping'])[1])\n",
    "    print(\"-----------------------Month {}------------------------------\".format(month))\n",
    "    display(stats.pearsonr(monthly_data['Observed'], monthly_data['x']))\n",
    "    display(stats.pearsonr(monthly_data['Observed'], monthly_data['y']))\n",
    "    display(stats.pearsonr(monthly_data['Observed'], monthly_data['Evapotranspiration']))\n",
    "    display(stats.pearsonr(monthly_data['Observed'], monthly_data['Precipitation']))\n",
    "    display(stats.pearsonr(monthly_data['Observed'], monthly_data['Irrigation_pumping']))"
   ]
  },
  {
   "cell_type": "code",
   "execution_count": 11,
   "metadata": {},
   "outputs": [],
   "source": [
    "month_p_value = pd.DataFrame(month_p_value)\n",
    "month_p_value['month'] = list(range(1, 13))\n",
    "month_p_value.drop(columns='Irrigation_pumping', inplace=True)"
   ]
  },
  {
   "cell_type": "code",
   "execution_count": null,
   "metadata": {},
   "outputs": [],
   "source": [
    "month_p_value.plot(x='month', kind='bar')\n",
    "# Setting plot titles and labels\n",
    "plt.title('P-values for Different Features Across 12 Months')\n",
    "plt.xlabel('Month')\n",
    "plt.ylabel('P-value')\n",
    "plt.legend(title='Features')\n",
    "\n",
    "# Show the plot\n",
    "plt.show()"
   ]
  },
  {
   "cell_type": "code",
   "execution_count": null,
   "metadata": {},
   "outputs": [],
   "source": [
    "variables_to_correlate = ['x', 'y', 'Evapotranspiration', 'Precipitation', 'Irrigation_pumping', 'Observed']\n",
    "\n",
    "for month in range(1, 13):\n",
    "    monthly_data = dataframe[dataframe['Month'] == month]\n",
    "    \n",
    "    correlation_matrix = monthly_data[variables_to_correlate].corr()\n",
    "    \n",
    "    plt.figure(figsize=(10, 8))\n",
    "    sns.heatmap(correlation_matrix, annot=True, cmap='coolwarm', vmin=-1, vmax=1)\n",
    "    plt.title(f'Correlation matrix for Month {month}')\n",
    "    plt.show()\n",
    "    \n",
    "    print(f\"Correlation matrix for Month {month}:\")\n",
    "    display(correlation_matrix)"
   ]
  },
  {
   "cell_type": "code",
   "execution_count": null,
   "metadata": {},
   "outputs": [],
   "source": [
    "from sklearn.feature_selection import f_regression\n",
    "\n",
    "variables_to_correlate = ['x', 'y', 'Evapotranspiration', 'Precipitation', 'Irrigation_pumping', 'Observed']\n",
    "\n",
    "correlation_matrix = dataframe[variables_to_correlate].corr()\n",
    "\n",
    "plt.figure(figsize=(10, 8))\n",
    "sns.heatmap(correlation_matrix, annot=True, cmap='coolwarm', vmin=-1, vmax=1)\n",
    "plt.title('Correlation matrix for the entire dataset')\n",
    "plt.show()\n",
    "\n",
    "display(correlation_matrix)"
   ]
  },
  {
   "cell_type": "code",
   "execution_count": 15,
   "metadata": {},
   "outputs": [],
   "source": [
    "from sklearn.preprocessing import OneHotEncoder\n",
    "\n",
    "encoder = OneHotEncoder()\n",
    "month_encoded = encoder.fit_transform(dataframe[['Month']]).toarray()\n",
    "month_encoded_df = pd.DataFrame(month_encoded, columns=[f'Month_{i}' for i in range(1, 13)])\n",
    "dataframe = pd.concat([dataframe, month_encoded_df], axis=1)"
   ]
  },
  {
   "cell_type": "code",
   "execution_count": 16,
   "metadata": {},
   "outputs": [],
   "source": [
    "segment_id_encoded = encoder.fit_transform(dataframe[['Segment_id']]).toarray()\n",
    "segment_id_encoded_df = pd.DataFrame(segment_id_encoded, columns=[f'Segment_{i}' for i in range(segment_id_encoded.shape[1])])\n",
    "\n",
    "segment_id_encoded_df.columns = [f'Segment_{int(dataframe[\"Segment_id\"].unique()[i])}' for i in range(segment_id_encoded.shape[1])]\n",
    "segments=dataframe[\"Segment_id\"].unique()\n",
    "dataframe = pd.concat([dataframe, segment_id_encoded_df], axis=1)"
   ]
  },
  {
   "cell_type": "code",
   "execution_count": null,
   "metadata": {},
   "outputs": [],
   "source": [
    "correlation_matrix = dataframe.corr()\n",
    "\n",
    "observed_correlations = correlation_matrix['Observed']\n",
    "\n",
    "month_correlations = observed_correlations.filter(like='Month_')\n",
    "segment_correlations = observed_correlations.filter(like='Segment_').drop('Segment_id')\n",
    "\n",
    "significant_month_correlations = month_correlations[month_correlations.abs() > 0.03]\n",
    "significant_segment_correlations = segment_correlations[segment_correlations.abs() > 0.05]\n",
    "\n",
    "print(\"Significant Month Correlations with Observed:\")\n",
    "print(significant_month_correlations)\n",
    "plt.figure(figsize=(10, 5))\n",
    "month_correlations.sort_values().plot(kind='bar')\n",
    "plt.title('Month Correlations with Observed')\n",
    "plt.xlabel('Month')\n",
    "plt.ylabel('Correlation')\n",
    "plt.grid(True)\n",
    "plt.show()\n",
    "\n",
    "plt.figure(figsize=(10, 5))\n",
    "segment_correlations.sort_values().plot(kind='bar')\n",
    "plt.title('Segment ID Correlations with Observed')\n",
    "plt.xlabel('Segment ID')\n",
    "plt.ylabel('Correlation')\n",
    "plt.grid(True)\n",
    "plt.show()\n",
    "\n",
    "print(\"\\nSignificant Segment ID Correlations with Observed:\")\n",
    "print(significant_segment_correlations)"
   ]
  },
  {
   "cell_type": "code",
   "execution_count": null,
   "metadata": {},
   "outputs": [],
   "source": [
    "from sklearn.model_selection import train_test_split\n",
    "from sklearn.linear_model import LinearRegression\n",
    "from sklearn.metrics import mean_squared_error, r2_score\n",
    "\n",
    "features = dataframe[['y', 'Precipitation'] + [f'Month_{i}' for i in range(1, 13)]]\n",
    "features = pd.concat([features, dataframe[[f'Segment_{i}' for i in dataframe[\"Segment_id\"].unique()]]], axis=1)\n",
    "\n",
    "target = dataframe['Observed']\n",
    "\n",
    "X_train, X_test, y_train, y_test = train_test_split(features, target, test_size=0.2, random_state=42)\n",
    "\n",
    "model = LinearRegression()\n",
    "model.fit(X_train, y_train)\n",
    "\n",
    "y_pred = model.predict(X_test)\n",
    "\n",
    "mse = mean_squared_error(y_test, y_pred)\n",
    "r2 = r2_score(y_test, y_pred)\n",
    "\n",
    "print(f'Mean Squared Error: {mse}')\n",
    "print(f'R^2 Score: {r2}')"
   ]
  },
  {
   "cell_type": "code",
   "execution_count": null,
   "metadata": {},
   "outputs": [],
   "source": [
    "month_correlation_threshold = 0.02\n",
    "segment_correlation_threshold = 0.03\n",
    "\n",
    "significant_month_columns = observed_correlations.filter(like='Month_').index[observed_correlations.filter(like='Month_').abs() > month_correlation_threshold].tolist()\n",
    "significant_segment_columns = observed_correlations.filter(like='Segment_').index[observed_correlations.filter(like='Segment_').abs() > segment_correlation_threshold].tolist()\n",
    "\n",
    "features = dataframe[['y', 'Precipitation'] + significant_month_columns + significant_segment_columns]\n",
    "\n",
    "target = dataframe['Observed']\n",
    "\n",
    "X_train, X_test, y_train, y_test = train_test_split(features, target, test_size=0.2, random_state=42)\n",
    "\n",
    "model = LinearRegression()\n",
    "model.fit(X_train, y_train)\n",
    "\n",
    "y_pred = model.predict(X_test)\n",
    "\n",
    "mse = mean_squared_error(y_test, y_pred)\n",
    "r2 = r2_score(y_test, y_pred)\n",
    "\n",
    "print(f'Mean Squared Error: {mse}')\n",
    "print(f'R^2 Score: {r2}')"
   ]
  },
  {
   "cell_type": "code",
   "execution_count": null,
   "metadata": {},
   "outputs": [],
   "source": [
    "dataframe['Month_Correlation'] = dataframe[[f'Month_{i}' for i in range(1, 13)]].dot(month_correlations.values)\n",
    "\n",
    "display(dataframe)"
   ]
  },
  {
   "cell_type": "code",
   "execution_count": null,
   "metadata": {},
   "outputs": [],
   "source": [
    "dataframe['Segment_Correlation'] = dataframe[[f'Segment_{i}' for i in segments]].dot(segment_correlations.values)\n",
    "\n",
    "display(dataframe)"
   ]
  },
  {
   "cell_type": "code",
   "execution_count": null,
   "metadata": {},
   "outputs": [],
   "source": [
    "features = dataframe[['y', 'Precipitation', 'Month_Correlation', 'Segment_Correlation']]\n",
    "\n",
    "target = dataframe['Observed']\n",
    "\n",
    "X_train, X_test, y_train, y_test = train_test_split(features, target, test_size=0.2, random_state=42)\n",
    "\n",
    "model = LinearRegression()\n",
    "model.fit(X_train, y_train)\n",
    "\n",
    "y_pred = model.predict(X_test)\n",
    "\n",
    "mse = mean_squared_error(y_test, y_pred)\n",
    "r2 = r2_score(y_test, y_pred)\n",
    "\n",
    "print(f'Mean Squared Error: {mse}')\n",
    "print(f'R^2 Score: {r2}')"
   ]
  },
  {
   "cell_type": "code",
   "execution_count": null,
   "metadata": {},
   "outputs": [],
   "source": [
    "features = dataframe[['y', 'Precipitation', 'Month_Correlation', 'Segment_Correlation'] + [f'Month_{i}' for i in range(1, 13)]]\n",
    "features = pd.concat([features, dataframe[[f'Segment_{i}' for i in dataframe[\"Segment_id\"].unique()]]], axis=1)\n",
    "target = dataframe['Observed']\n",
    "\n",
    "X_train, X_test, y_train, y_test = train_test_split(features, target, test_size=0.2, random_state=42)\n",
    "\n",
    "model = LinearRegression()\n",
    "model.fit(X_train, y_train)\n",
    "\n",
    "y_pred = model.predict(X_test)\n",
    "\n",
    "mse = mean_squared_error(y_test, y_pred)\n",
    "r2 = r2_score(y_test, y_pred)\n",
    "\n",
    "print(f'Mean Squared Error: {mse}')\n",
    "print(f'R^2 Score: {r2}')"
   ]
  },
  {
   "cell_type": "code",
   "execution_count": null,
   "metadata": {},
   "outputs": [],
   "source": []
  }
 ],
 "metadata": {
  "kernelspec": {
   "display_name": "Python 3",
   "language": "python",
   "name": "python3"
  },
  "language_info": {
   "codemirror_mode": {
    "name": "ipython",
    "version": 3
   },
   "file_extension": ".py",
   "mimetype": "text/x-python",
   "name": "python",
   "nbconvert_exporter": "python",
   "pygments_lexer": "ipython3",
   "version": "3.10.11"
  }
 },
 "nbformat": 4,
 "nbformat_minor": 2
}
