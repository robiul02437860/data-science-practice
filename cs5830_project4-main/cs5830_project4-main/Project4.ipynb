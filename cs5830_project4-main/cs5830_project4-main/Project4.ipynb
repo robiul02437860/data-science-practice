{
 "cells": [
  {
   "cell_type": "code",
   "execution_count": 116,
   "id": "d1a77270-60a8-46a7-8245-362e861afac0",
   "metadata": {},
   "outputs": [],
   "source": [
    "import numpy as np\n",
    "import pandas as pd\n",
    "from sklearn.model_selection import GridSearchCV\n",
    "from sklearn.neighbors import NearestNeighbors\n",
    "from sklearn.preprocessing import StandardScaler\n",
    "from sklearn.model_selection import train_test_split\n",
    "from sklearn.metrics import f1_score, make_scorer, precision_score,recall_score, confusion_matrix, classification_report\n",
    "import itertools\n",
    "from sklearn.base import BaseEstimator, ClassifierMixin\n",
    "from sklearn.model_selection import StratifiedKFold\n",
    "import seaborn as sns\n",
    "import matplotlib.pyplot as plt\n",
    "import ast"
   ]
  },
  {
   "cell_type": "code",
   "execution_count": 117,
   "id": "94a5d0bf-86bf-4550-8d38-65d933f7bc21",
   "metadata": {},
   "outputs": [],
   "source": [
    "data = pd.read_csv('core/cleveland.csv')\n",
    "data_filtered= data.replace('?',pd.NA)\n",
    "data_filtered = data_filtered.dropna()\n",
    "data_filtered.num = data_filtered.num.apply(lambda x: 1 if x >0 else 0)\n",
    "# One-hot encoding the 'cp' and 'restecg' features\n",
    "data_filtered = pd.get_dummies(data_filtered, columns=['cp', 'restecg','slope','thal'], prefix=['cp', 'restecg','slope','thal'], drop_first=False, dtype=int)"
   ]
  },
  {
   "cell_type": "code",
   "execution_count": 118,
   "id": "3aa38410-7389-4614-ac75-31cd60884d5b",
   "metadata": {},
   "outputs": [],
   "source": [
    "corelated_feature=list(data_filtered.corr().num.apply(lambda x:abs(x)).sort_values(ascending =False).index[1:])"
   ]
  },
  {
   "cell_type": "code",
   "execution_count": 119,
   "id": "9f4afe48-a067-4cd7-92c3-ff56c601abb3",
   "metadata": {},
   "outputs": [],
   "source": [
    "features = corelated_feature[0:11]"
   ]
  },
  {
   "cell_type": "code",
   "execution_count": 120,
   "id": "bf54ed3e-608a-4847-8a8b-f12aa56fc618",
   "metadata": {},
   "outputs": [],
   "source": [
    "features.append('age')"
   ]
  },
  {
   "cell_type": "code",
   "execution_count": 121,
   "id": "14bb8d9d-6e53-4a61-9587-c2adc3d2557b",
   "metadata": {},
   "outputs": [],
   "source": [
    "combinations = []\n",
    "feature_list = features\n",
    "for r in range(4, len(feature_list) + 1):\n",
    "    combinations.extend(itertools.combinations(feature_list, r))\n",
    "\n",
    "combinations = [list(combo) for combo in combinations]"
   ]
  },
  {
   "cell_type": "code",
   "execution_count": 122,
   "id": "ca6714c7-e6a0-446b-bf5e-8820091c7afb",
   "metadata": {},
   "outputs": [
    {
     "data": {
      "text/plain": [
       "3797"
      ]
     },
     "execution_count": 122,
     "metadata": {},
     "output_type": "execute_result"
    }
   ],
   "source": [
    "len(combinations)"
   ]
  },
  {
   "cell_type": "code",
   "execution_count": 123,
   "id": "199ae6fe-0ba3-41d2-9c88-996d819678e5",
   "metadata": {},
   "outputs": [],
   "source": [
    "class CustomKNeighbors(BaseEstimator, ClassifierMixin):\n",
    "    def __init__(self, n_neighbors):\n",
    "        self.n_neighbors = n_neighbors\n",
    "\n",
    "    def fit(self, X, y):\n",
    "        self.X_train = X\n",
    "        self.y_train = y\n",
    "        self.nn = NearestNeighbors(n_neighbors=self.n_neighbors)\n",
    "        self.nn.fit(X)\n",
    "        self.classes_ = np.unique(y)\n",
    "        return self\n",
    "\n",
    "    def predict(self, X):\n",
    "        distances, indices = self.nn.kneighbors(X)\n",
    "        predictions = []\n",
    "        for idx in indices:\n",
    "            neighbor_labels = self.y_train[idx]\n",
    "            predicted_value = np.median(neighbor_labels)  # Calculate the median\n",
    "            \n",
    "            # Adjust the prediction based on the median value\n",
    "            if predicted_value == 0.5:\n",
    "                predictions.append(1)  # If median is 0.5, predict 1\n",
    "            else:\n",
    "                predictions.append(predicted_value)  # Otherwise, use the median\n",
    "        return np.array(predictions)"
   ]
  },
  {
   "cell_type": "markdown",
   "id": "c9b2d77d-81a9-460c-9844-1e33d948e83e",
   "metadata": {},
   "source": [
    "## Note: This cell may take an hour to run. If you wish to skip it, please uncomment the next cell and execute it."
   ]
  },
  {
   "cell_type": "code",
   "execution_count": null,
   "id": "8cc912ed-d075-48a6-838b-66db086c4d84",
   "metadata": {},
   "outputs": [],
   "source": [
    "results = []\n",
    "columns = data_filtered.drop(columns='num').columns\n",
    "feature_indices = {\n",
    "    tuple(feature_combination): [columns.get_loc(col) for col in feature_combination]\n",
    "    for feature_combination in combinations\n",
    "}\n",
    "\n",
    "\n",
    "X = data_filtered.drop(columns='num').values\n",
    "y = data_filtered['num'].values\n",
    "\n",
    "X_train, X_test, y_train, y_test = train_test_split(X, y, test_size=0.2, random_state=42)\n",
    "\n",
    "scaler = StandardScaler()\n",
    "X_train_scaled = scaler.fit_transform(X_train)\n",
    "X_test_scaled = scaler.transform(X_test)\n",
    "\n",
    "param_grid = {'n_neighbors': np.arange(2, 41,2 )}\n",
    "f1_scorer = make_scorer(f1_score, pos_label=1, greater_is_better=True)\n",
    "skf = StratifiedKFold(n_splits=10, shuffle=True, random_state=42)\n",
    "count=0\n",
    "for feature_combination, indices in feature_indices.items():\n",
    "    X_train_subset = X_train_scaled[:, indices]\n",
    "    X_test_subset = X_test_scaled[:, indices]\n",
    "\n",
    "    custom_knn = CustomKNeighbors(n_neighbors=5)\n",
    "\n",
    "    grid_search = GridSearchCV(custom_knn, param_grid, cv=skf, scoring=f1_scorer, verbose=0)\n",
    "    grid_search.fit(X_train_subset, y_train)\n",
    "\n",
    "    best_model = grid_search.best_estimator_\n",
    "    count=count+1\n",
    "    print(count)\n",
    "\n",
    "    results.append({\n",
    "        'feature_combination': feature_combination,\n",
    "        'best_n_neighbors': grid_search.best_params_['n_neighbors'],\n",
    "        'best_cv_score': grid_search.best_score_,\n",
    "    })\n",
    "\n",
    "knn_results = pd.DataFrame(results)\n",
    "knn_results.to_csv('Knn_Results1.csv')\n",
    "best_feature  = knn_results.iloc[knn_results.best_cv_score.idxmax()].feature_combination"
   ]
  },
  {
   "cell_type": "markdown",
   "id": "8573ac43-261b-4e17-b261-0c4cf030dffb",
   "metadata": {},
   "source": [
    "### If you have already run the script above, you should not run the cell below. If you want to import the data, uncomment and run the cell below."
   ]
  },
  {
   "cell_type": "code",
   "execution_count": 15,
   "id": "2b538173-d78d-4905-b80c-9896e47b563f",
   "metadata": {},
   "outputs": [],
   "source": [
    "# knn_results = pd.read_csv('Knn_Results1.csv')\n",
    "# best_feature = knn_results.iloc[knn_results.best_cv_score.idxmax()].feature_combination\n",
    "# knn_results.iloc[knn_results.best_cv_score.idxmax()]\n",
    "# best_feature = best_feature.strip(\"()\").replace(\"'\", \"\").split(\", \") "
   ]
  },
  {
   "cell_type": "code",
   "execution_count": 141,
   "id": "76a17784-2371-4b3a-9ffd-40416460fde1",
   "metadata": {},
   "outputs": [
    {
     "name": "stdout",
     "output_type": "stream",
     "text": [
      "Iteration 1\n",
      "Best n_neighbors for iteration 1: 40, Best CV score: 0.8827471346350064\n",
      "Iteration 2\n",
      "Best n_neighbors for iteration 2: 30, Best CV score: 0.8668834966203388\n",
      "Iteration 3\n",
      "Best n_neighbors for iteration 3: 26, Best CV score: 0.8655580651232825\n",
      "Iteration 4\n",
      "Best n_neighbors for iteration 4: 31, Best CV score: 0.8399041080963278\n",
      "Iteration 5\n",
      "Best n_neighbors for iteration 5: 34, Best CV score: 0.825484038702507\n",
      "Iteration 6\n",
      "Best n_neighbors for iteration 6: 38, Best CV score: 0.8290193864106907\n",
      "Iteration 7\n",
      "Best n_neighbors for iteration 7: 40, Best CV score: 0.8286739576213261\n",
      "Iteration 8\n",
      "Best n_neighbors for iteration 8: 26, Best CV score: 0.8372233614338876\n",
      "Iteration 9\n",
      "Best n_neighbors for iteration 9: 30, Best CV score: 0.8652390462321812\n",
      "Iteration 10\n",
      "Best n_neighbors for iteration 10: 28, Best CV score: 0.8316746411483253\n",
      "Iteration 11\n",
      "Best n_neighbors for iteration 11: 36, Best CV score: 0.8461311612364243\n",
      "Iteration 12\n",
      "Best n_neighbors for iteration 12: 28, Best CV score: 0.8506650354476442\n",
      "Iteration 13\n",
      "Best n_neighbors for iteration 13: 26, Best CV score: 0.8350601140532492\n",
      "Iteration 14\n",
      "Best n_neighbors for iteration 14: 36, Best CV score: 0.8301569470448189\n",
      "Iteration 15\n",
      "Best n_neighbors for iteration 15: 40, Best CV score: 0.831702403876317\n"
     ]
    }
   ],
   "source": [
    "neighbor_results = pd.DataFrame(columns=np.arange(1, 41,1))\n",
    "param_grid = {'n_neighbors': np.arange(1, 41, 1)}\n",
    "skf = StratifiedKFold(n_splits=10, shuffle=True)\n",
    "# Loop through 15 iterations\n",
    "for iteration in range(1, 16):\n",
    "    print(f\"Iteration {iteration}\")\n",
    "\n",
    "    # Split the data (without using random_state to allow variation in splits)\n",
    "    X_train, X_test, y_train, y_test = train_test_split(X, y, test_size=0.2)\n",
    "\n",
    "    # Scale the data\n",
    "    X_train_scaled = scaler.fit_transform(X_train)\n",
    "    X_test_scaled = scaler.transform(X_test)\n",
    "\n",
    "    # Perform GridSearchCV to get the best neighbor count for this iteration\n",
    "    grid_search = GridSearchCV(custom_knn, param_grid, cv=skf, scoring=f1_scorer, verbose=0)\n",
    "    grid_search.fit(X_train_scaled, y_train)\n",
    "    \n",
    "    # Store the results in the dataframe for the current iteration\n",
    "    iteration_results = pd.Series(grid_search.cv_results_['mean_test_score'], index=np.arange(1, 41))\n",
    "    neighbor_results.loc[iteration] = iteration_results\n",
    "\n",
    "    # Get and print the best n_neighbors for this iteration\n",
    "    best_n_neighbors = grid_search.best_params_['n_neighbors']\n",
    "    best_cv_score = grid_search.best_score_\n",
    "    print(f'Best n_neighbors for iteration {iteration}: {best_n_neighbors}, Best CV score: {best_cv_score}')\n",
    "\n"
   ]
  },
  {
   "cell_type": "code",
   "execution_count": 211,
   "id": "9c0bbd16-69b1-4cf2-9cf1-9191232e8088",
   "metadata": {},
   "outputs": [
    {
     "data": {
      "image/png": "[encoded data removed]",
      "text/plain": [
       "<Figure size 640x480 with 1 Axes>"
      ]
     },
     "metadata": {},
     "output_type": "display_data"
    }
   ],
   "source": [
    "sns.lineplot( x = neighbor_results.mean().index, y = neighbor_results.mean().values)\n",
    "plt.xlabel('No of Neighbors')\n",
    "plt.ylabel('F1 Score')\n",
    "plt.xlim(0,20)\n",
    "plt.xticks(range(1, 41, 2))\n",
    "plt.title('Figure 2: F1 Score vs No of Neighbors')\n",
    "plt.savefig('nneighbour.png',dpi=300)"
   ]
  },
  {
   "cell_type": "code",
   "execution_count": 191,
   "id": "0b710e47-76ef-4559-9516-a72a05a5c9fa",
   "metadata": {},
   "outputs": [
    {
     "name": "stdout",
     "output_type": "stream",
     "text": [
      "Optimal No of Neighbor = 30\n"
     ]
    }
   ],
   "source": [
    "print(f'Optimal No of Neighbor = {neighbor_results.mean().idxmax()}')"
   ]
  },
  {
   "cell_type": "code",
   "execution_count": 222,
   "id": "260ae6e0-1f99-4c3a-a0d8-c24cbfcc169f",
   "metadata": {},
   "outputs": [],
   "source": [
    "X_train, X_test, y_train, y_test = train_test_split(X, y, test_size=0.2, random_state=100)\n",
    "X_train_scaled = scaler.fit_transform(X_train)\n",
    "X_test_scaled = scaler.transform(X_test)\n",
    "custom_knn = CustomKNeighbors(n_neighbors=30)\n",
    "custom_knn.fit(X_train_scaled,y_train)\n",
    "y_pred=custom_knn.predict(X_test_scaled)"
   ]
  },
  {
   "cell_type": "code",
   "execution_count": null,
   "id": "1edd3a2e-a301-4f14-bae5-05c38ea1618a",
   "metadata": {},
   "outputs": [],
   "source": [
    "f1 = f1_score(y_test, y_pred, pos_label=1)\n",
    "precision = precision_score(y_test, y_pred, pos_label=1)\n",
    "recall = recall_score(y_test, y_pred, pos_label=1)\n",
    "\n",
    "\n",
    "# Print the results\n",
    "print(f'F1 Score: {f1:.4f}')\n",
    "print(f'Precision: {precision:.4f}')\n",
    "print(f'Recall: {recall:.4f}')\n",
    "sns.heatmap(confusion_matrix(y_test,y_pred),annot=True)"
   ]
  },
  {
   "cell_type": "code",
   "execution_count": 196,
   "id": "a6a91f76-330d-49a8-a34a-728b01c42969",
   "metadata": {},
   "outputs": [
    {
     "name": "stdout",
     "output_type": "stream",
     "text": [
      "              precision    recall  f1-score   support\n",
      "\n",
      "           0       0.90      0.97      0.93        36\n",
      "           1       0.95      0.83      0.89        24\n",
      "\n",
      "    accuracy                           0.92        60\n",
      "   macro avg       0.92      0.90      0.91        60\n",
      "weighted avg       0.92      0.92      0.92        60\n",
      "\n"
     ]
    }
   ],
   "source": [
    "print(classification_report(y_test,y_pred))"
   ]
  },
  {
   "cell_type": "code",
   "execution_count": 197,
   "id": "a20f04bf-0d7a-4d91-982e-d4c5fb293c9d",
   "metadata": {},
   "outputs": [],
   "source": [
    "sample_data = pd.read_csv('core/cleveland-test-sample.csv')\n",
    "sample_data.replace('?', pd.NA, inplace=True)\n",
    "sample_data.dropna(inplace=True)\n",
    "sample_data.drop('Unnamed: 0',inplace=True, axis=1)\n",
    "sample_data=pd.get_dummies(sample_data, columns=['cp', 'restecg','slope','thal'], prefix=['cp', 'restecg','slope','thal'], drop_first=False, dtype=int)\n",
    "sample_data_X = sample_data.drop('disease', axis=1)[list(best_feature)].values\n",
    "sample_data_y = sample_data.disease.values\n",
    "sample_data_Xscaled = scaler.transform(sample_data_X)\n",
    "sampe_data_ypredict=custom_knn.predict(sample_data_Xscaled)"
   ]
  },
  {
   "cell_type": "code",
   "execution_count": 218,
   "id": "dafec9c3-7678-4ae4-a107-3232f0b3dec4",
   "metadata": {},
   "outputs": [
    {
     "name": "stdout",
     "output_type": "stream",
     "text": [
      "F1 Score: 0.9189\n",
      "Precision: 0.8947\n",
      "Recall: 0.9444\n",
      "              precision    recall  f1-score   support\n",
      "\n",
      "           0       0.95      0.90      0.93        21\n",
      "           1       0.89      0.94      0.92        18\n",
      "\n",
      "    accuracy                           0.92        39\n",
      "   macro avg       0.92      0.92      0.92        39\n",
      "weighted avg       0.92      0.92      0.92        39\n",
      "\n"
     ]
    }
   ],
   "source": [
    "f1 = f1_score(sample_data_y, sampe_data_ypredict, pos_label=1)\n",
    "precision = precision_score(sample_data_y, sampe_data_ypredict, pos_label=1)\n",
    "recall = recall_score(sample_data_y, sampe_data_ypredict, pos_label=1)\n",
    "\n",
    "# Print the results\n",
    "print(f'F1 Score: {f1:.4f}')\n",
    "print(f'Precision: {precision:.4f}')\n",
    "print(f'Recall: {recall:.4f}')\n",
    "print(classification_report(sample_data_y,sampe_data_ypredict))"
   ]
  },
  {
   "cell_type": "code",
   "execution_count": 234,
   "id": "53f88616-7f1f-45dc-b75b-3227bfd4c2ad",
   "metadata": {},
   "outputs": [
    {
     "data": {
      "image/png": "[encoded data removed]",
      "text/plain": [
       "<Figure size 800x500 with 1 Axes>"
      ]
     },
     "metadata": {},
     "output_type": "display_data"
    }
   ],
   "source": [
    "plt.figure(figsize=(8,5))\n",
    "data_filtered.corr().num.apply(lambda x:abs(x)).sort_values(ascending =False).drop('num').plot(kind='bar')\n",
    "plt.ylabel('Correlation Coefficient')\n",
    "plt.xlabel('Features')\n",
    "\n",
    "plt.title('Figure 1: Feature Correlation with Target Variable')\n",
    "plt.tight_layout()\n",
    "plt.savefig('correlation.png',dpi=300)"
   ]
  },
  {
   "cell_type": "code",
   "execution_count": 175,
   "id": "8da1bb2b-bd42-4ee0-998b-45de1a3e443a",
   "metadata": {},
   "outputs": [
    {
     "data": {
      "text/plain": [
       "('thal_3.0',\n",
       " 'cp_4.0',\n",
       " 'thal_7.0',\n",
       " 'ca',\n",
       " 'thalach',\n",
       " 'exang',\n",
       " 'slope_2.0',\n",
       " 'age')"
      ]
     },
     "execution_count": 175,
     "metadata": {},
     "output_type": "execute_result"
    }
   ],
   "source": [
    "best_feature"
   ]
  },
  {
   "cell_type": "code",
   "execution_count": null,
   "id": "cc8b5368-8687-4c41-8bb8-646d6a73ef56",
   "metadata": {},
   "outputs": [],
   "source": []
  }
 ],
 "metadata": {
  "kernelspec": {
   "display_name": "Python 3 (ipykernel)",
   "language": "python",
   "name": "python3"
  },
  "language_info": {
   "codemirror_mode": {
    "name": "ipython",
    "version": 3
   },
   "file_extension": ".py",
   "mimetype": "text/x-python",
   "name": "python",
   "nbconvert_exporter": "python",
   "pygments_lexer": "ipython3",
   "version": "3.11.5"
  }
 },
 "nbformat": 4,
 "nbformat_minor": 5
}
