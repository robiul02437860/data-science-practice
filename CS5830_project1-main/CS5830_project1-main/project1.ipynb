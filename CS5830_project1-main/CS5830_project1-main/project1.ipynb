{
 "cells": [
  {
   "cell_type": "code",
   "execution_count": null,
   "id": "2f3d2aaf",
   "metadata": {
    "id": "2f3d2aaf"
   },
   "outputs": [],
   "source": [
    "# Importing necessary libraries\n",
    "import pandas as pd\n",
    "import matplotlib.pyplot as plt\n",
    "import seaborn as sns\n",
    "\n",
    "# Load the required datasets for the analysis\n",
    "batting_file = './baseball/core/Batting.csv'\n",
    "salaries_file = './baseball/core/Salaries.csv'\n",
    "batting_post_file = './baseball/core/BattingPost.csv'\n",
    "awards_players_file = './baseball/core/AwardsPlayers.csv'\n",
    "pitching_file = './baseball/core/Pitching.csv'\n",
    "people_file = './baseball/core/People.csv'\n",
    "\n",
    "# Load the CSV files into pandas dataframes\n",
    "batting_data = pd.read_csv(batting_file)\n",
    "salaries_data = pd.read_csv(salaries_file)\n",
    "batting_post_data = pd.read_csv(batting_post_file)\n",
    "awards_players_data = pd.read_csv(awards_players_file)\n",
    "pitching_data = pd.read_csv(pitching_file)\n",
    "people_data = pd.read_csv(people_file)"
   ]
  },
  {
   "cell_type": "markdown",
   "id": "j98q_GvhFNVS",
   "metadata": {
    "id": "j98q_GvhFNVS"
   },
   "source": [
    "**Analysis 1:** Player Performance over Time (Batting Statistics)"
   ]
  },
  {
   "cell_type": "code",
   "execution_count": null,
   "id": "eb8fa66c",
   "metadata": {
    "colab": {
     "base_uri": "https://localhost:8080/",
     "height": 607
    },
    "id": "eb8fa66c",
    "outputId": "9a0052e0-f556-4600-d021-ce3b1b3ee763"
   },
   "outputs": [],
   "source": [
    "# Aggregate batting statistics (HR and AVG) by year\n",
    "batting_data['AVG'] = batting_data['H'] / batting_data['AB']  # Calculate Batting Average\n",
    "batting_performance = batting_data.groupby('yearID').agg({'HR': 'sum', 'AVG': 'mean'}).reset_index()\n",
    "\n",
    "fig, ax1 = plt.subplots(figsize=(12, 6))\n",
    "\n",
    "# Plot Total Home Runs on the primary y-axis\n",
    "ax1.set_xlabel('Year')\n",
    "ax1.set_ylabel('Total Home Runs', color='blue')\n",
    "ax1.plot(batting_performance['yearID'], batting_performance['HR'], color='blue', label='Total Home Runs')\n",
    "ax1.tick_params(axis='y', labelcolor='blue')\n",
    "\n",
    "# Create a secondary y-axis for the Batting Average\n",
    "ax2 = ax1.twinx()\n",
    "ax2.set_ylabel('Batting Average', color='green')\n",
    "ax2.plot(batting_performance['yearID'], batting_performance['AVG'], color='green', label='Batting Average')\n",
    "ax2.tick_params(axis='y', labelcolor='green')\n",
    "\n",
    "# Set the title and display the plot\n",
    "plt.title('Player Performance Over Time (Home Runs and Batting Average)')\n",
    "fig.tight_layout()\n",
    "plt.show()"
   ]
  },
  {
   "cell_type": "markdown",
   "id": "zfrlh5qeFYms",
   "metadata": {
    "id": "zfrlh5qeFYms"
   },
   "source": [
    "This graph represents two key performance metrics in baseball—Total Home Runs and Average Batting Average—over time. Here's how to interpret it:\n",
    "\n",
    "**Blue Line: Total Home Runs (Left Y-Axis):**\n",
    "The blue line shows the total number of home runs hit by players in each year.\n",
    "The left y-axis corresponds to the number of home runs.\n",
    "We observe that the total number of home runs gradually increases over time, indicating that players have been hitting more home runs in recent years. This could be due to changes in player strength, training, or strategies favoring power-hitting.\n",
    "\n",
    "**Green Line: Average Batting Average (Right Y-Axis):**\n",
    "The green line represents the average batting average across all players for each year.\n",
    "The right y-axis corresponds to the batting average, which typically ranges between 0 and 1.\n",
    "Unlike the steady rise in home runs, the batting average shows less variation and remains relatively stable over time. The batting average has stayed in a consistent range between 0.178 and 0.255, with slight fluctuations. This suggests that while players may be hitting more home runs, their ability to hit overall (as measured by batting average) has not dramatically changed.\n",
    "\n",
    "**Key Observations:**\n",
    "\n",
    "*   **Increasing Home Runs:** The sharp upward trend in home runs highlights a significant change in player performance or strategies, especially in the modern era.\n",
    "*   **Stable Batting Average:** Batting average does not show the same dramatic rise, indicating that while power hitting has increased, the overall ability to hit has remained relatively steady.\n",
    "This graph illustrates how the nature of offensive performance in baseball has evolved, with a growing emphasis on hitting home runs, while general hitting consistency (batting average) has not changed as much."
   ]
  },
  {
   "cell_type": "markdown",
   "id": "jJIXK4xdHHjO",
   "metadata": {
    "id": "jJIXK4xdHHjO"
   },
   "source": [
    "**Analysis 2:** Comparing Salaries and Age"
   ]
  },
  {
   "cell_type": "code",
   "execution_count": null,
   "id": "509931e1",
   "metadata": {
    "colab": {
     "base_uri": "https://localhost:8080/",
     "height": 581
    },
    "id": "509931e1",
    "outputId": "989c0a56-91d3-45df-dc0b-79e1d5bfeb83"
   },
   "outputs": [],
   "source": [
    "# Calculate the correlation between player age and salary\n",
    "# Using the merged data of salaries and player ages calculated earlier (batting and pitching data)\n",
    "\n",
    "# Merge the salary data with the player age information (ensure birthYear is already calculated)\n",
    "salary_age_data = pd.merge(salaries_data, people_data[['playerID', 'birthYear']], on='playerID', how='left')\n",
    "salary_age_data['age'] = salary_age_data['yearID'] - salary_age_data['birthYear']\n",
    "\n",
    "# Remove any missing values or unrealistic ages\n",
    "salary_age_data = salary_age_data[(salary_age_data['age'] > 15) & (salary_age_data['age'] < 60)]  # Age filter\n",
    "\n",
    "# Calculate the correlation between age and salary\n",
    "correlation = salary_age_data['age'].corr(salary_age_data['salary'])\n",
    "\n",
    "# Plot salary vs age\n",
    "plt.figure(figsize=(8, 6))\n",
    "plt.scatter(salary_age_data['age'], salary_age_data['salary'], alpha=0.5, color='blue')\n",
    "plt.title(f'Salary vs Age (Correlation: {correlation:.2f})')\n",
    "plt.xlabel('Age')\n",
    "plt.ylabel('Salary ($)')\n",
    "plt.grid(True)\n",
    "plt.show()\n",
    "\n",
    "correlation"
   ]
  },
  {
   "cell_type": "markdown",
   "id": "yzJiS4lUIAEt",
   "metadata": {
    "id": "yzJiS4lUIAEt"
   },
   "source": [
    "This scatter plot shows the relationship between a baseball player's age (on the x-axis) and their salary (on the y-axis). Each point represents an individual player’s salary at a specific age.\n",
    "\n",
    "**Key Observations:**\n",
    "1. **Correlation (0.33):**\n",
    "* The correlation value of 0.33 indicates a positive but moderate relationship between age and salary.\n",
    "*   This means that, generally, as players get older, their salaries increase, but the relationship is not very strong. Other factors beyond age (such as performance, experience, team contracts, etc.) also play a significant role in determining salaries.\n",
    "\n",
    "2. Peak Salary Age:\n",
    "*   The graph shows that salaries peak around the ages of 30 to 35. This is the period when most players are at their prime in terms of experience, physical condition, and performance.\n",
    "*   Players tend to reach their highest earning potential around this age range due to long-term contracts, endorsements, and their established value within teams.\n",
    "\n",
    "3. **Salary Decline After Age 35:**\n",
    "*   After the age of 35, the number of players earning high salaries begins to decline. This is expected, as players usually start to decline in performance and physical capability in their later years.\n",
    "*   Fewer players in the 40+ age group command the same high salaries, although some high-performing veterans might still be exceptions.\n",
    "\n",
    "4. **Low Salaries for Younger Players:**\n",
    "*   Players below the age of 25 generally have lower salaries, as they are often newer to the league and still proving themselves. Entry-level contracts or minor league players in their early years may also contribute to this trend.\n",
    "*   As players gain experience and prove their worth, their salaries tend to rise, as shown by the upward trend into the 30–35 age range.\n",
    "\n",
    "5. **Outliers:**\n",
    "*   There are a few players in their late 20s and early 30s earning extremely high salaries (above $30 million), which are outliers. These could be star players with exceptional contracts.\n",
    "\n",
    "**Key Insights:**\n",
    "* Salaries increase with age up to a certain point (around 30–35 years), which is typically when players reach their peak performance.\n",
    "* After this peak, salaries decline as players age, aligning with the natural decline in physical ability and performance.\n",
    "* The positive correlation (0.33) suggests that age is one of several factors influencing player salaries, but it is not the only determinant."
   ]
  },
  {
   "cell_type": "markdown",
   "id": "7948337c",
   "metadata": {
    "id": "7948337c"
   },
   "source": [
    "**Analysis 3:** Home runs and strikeouts vs age"
   ]
  },
  {
   "cell_type": "code",
   "execution_count": null,
   "id": "4974a4f4",
   "metadata": {
    "id": "4974a4f4"
   },
   "outputs": [],
   "source": [
    "# Merge with the 'People' dataset to get birth dates\n",
    "batting = pd.merge(batting_data, people_data[['playerID', 'birthYear']], on='playerID', how='left')\n",
    "pitching = pd.merge(pitching_data, people_data[['playerID', 'birthYear']], on='playerID', how='left')\n",
    "\n",
    "# Calculate the player's age during the season\n",
    "batting['age'] = batting['yearID'] - batting['birthYear']\n",
    "pitching['age'] = pitching['yearID'] - pitching['birthYear']\n"
   ]
  },
  {
   "cell_type": "code",
   "execution_count": null,
   "id": "f169ktoUtEZi",
   "metadata": {
    "colab": {
     "base_uri": "https://localhost:8080/",
     "height": 206
    },
    "id": "f169ktoUtEZi",
    "outputId": "1f8c744d-0189-47da-e655-76b92088900c"
   },
   "outputs": [],
   "source": [
    "# Aggregate batting metrics by age\n",
    "batting_by_age = batting.groupby('age').agg({\n",
    "    'HR': 'sum',       # Total Home Runs\n",
    "    'RBI': 'sum',      # Total Runs Batted In\n",
    "}).reset_index()\n",
    "\n",
    "batting_by_age.head()"
   ]
  },
  {
   "cell_type": "code",
   "execution_count": null,
   "id": "-yxq6EZt0m2n",
   "metadata": {
    "colab": {
     "base_uri": "https://localhost:8080/"
    },
    "id": "-yxq6EZt0m2n",
    "outputId": "60b23e73-506f-4fd8-f939-1bebdab692a0"
   },
   "outputs": [],
   "source": [
    "# Aggregate pitching metrics by age\n",
    "pitching_by_age = pitching.groupby('age').agg({\n",
    "    'SO': 'sum',       # Total Strikeouts\n",
    "    'ERA': 'mean',     # Average ERA\n",
    "}).reset_index()\n",
    "\n",
    "# Check the results\n",
    "print(pitching_by_age.head())"
   ]
  },
  {
   "cell_type": "code",
   "execution_count": null,
   "id": "J9vsw6bN00xO",
   "metadata": {
    "colab": {
     "base_uri": "https://localhost:8080/",
     "height": 927
    },
    "id": "J9vsw6bN00xO",
    "outputId": "723fc6ce-5d7f-4a77-ff47-52a1b9e2709c"
   },
   "outputs": [],
   "source": [
    "# Plot Home Runs by Age\n",
    "sns.lineplot(x='age', y='HR', data=batting_by_age, marker='o')\n",
    "plt.title('Home Runs by Age')\n",
    "plt.xlabel('Age')\n",
    "plt.ylabel('Home Runs')\n",
    "plt.grid(True)\n",
    "plt.show()\n",
    "\n",
    "# Plot Strikeouts by Age\n",
    "plt.figure()\n",
    "sns.lineplot(x='age', y='SO', data=pitching_by_age, marker='o')\n",
    "plt.title('Strikeouts by Age')\n",
    "plt.xlabel('Age')\n",
    "plt.ylabel('Strikeouts')\n",
    "plt.grid(True)\n",
    "plt.show()"
   ]
  },
  {
   "cell_type": "markdown",
   "id": "lcmV__4e1BN8",
   "metadata": {
    "id": "lcmV__4e1BN8"
   },
   "source": [
    "**Home Runs (HR):**\n",
    "Home Runs (HR) represent the total number of times a player hits the ball out of the park in fair territory, scoring a run. Home run ability is often associated with power hitting. </br>\n",
    "**Strikeouts (SO):**\n",
    "Strikeouts (SO) represent the number of times a pitcher throws three strikes to a batter, resulting in the batter's dismissal without making contact that leads to a hit. It’s a critical measure of a pitcher's power, control, and effectiveness.\n",
    "\n",
    "**Plot Interpretation:**\n",
    "\n",
    "The line plots of HR by Age and SO by age would depict how home run production changes with age and how the number of strikeouts a pitcher records changes as they age respectively.\n",
    "\n",
    "*Early Career (Early 20s):* Home run totals may start low as players develop their strength and adjust to major league pitching. Aslo, at the satrting of the pitcher's carrer it strikeouts was low with an increasing trends.\n",
    "\n",
    "*Late 20s to Early 30s:* Players often reach their peak power during these years, leading to the highest home run totals same as the strikouts.\n",
    "\n",
    "*Decline Phase (Mid 30s and Beyond):* As players age, power tends to decline, leading to fewer home runs and strikeouts. This can be due to decreased physical strength, slower bat speed, and the natural aging process.\n",
    "\n",
    "**Overall Insights:**\n",
    "\n",
    "The peak age for home runs and strikeouts show when a player's power typically reaches its maximum.\n",
    "The decline in home runs and strikeouts can inform strategies around player usage, such as moving aging sluggers into roles where they can still contribute without needing to play every day."
   ]
  },
  {
   "cell_type": "markdown",
   "id": "P1EgCnF53J-l",
   "metadata": {
    "id": "P1EgCnF53J-l"
   },
   "source": [
    "**Analysis 4:** Distribution of Age at Debut with Density Plot\n"
   ]
  },
  {
   "cell_type": "code",
   "execution_count": null,
   "id": "5pyAD14h1F5j",
   "metadata": {
    "colab": {
     "base_uri": "https://localhost:8080/",
     "height": 547
    },
    "id": "5pyAD14h1F5j",
    "outputId": "91593043-7b33-419d-ab32-1362f9298a22"
   },
   "outputs": [],
   "source": [
    "# Merge the birth year with the batting data to calculate debut age\n",
    "batting_data = pd.merge(batting_data, people_data[['playerID', 'birthYear']], on='playerID', how='left')\n",
    "# Calculate the player's age at debut\n",
    "batting_data['age_at_debut'] = batting_data['yearID'] - batting_data['birthYear']\n",
    "\n",
    "# Filter out invalid values (valid ages should be between 15 and 40)\n",
    "batting_data = batting_data[(batting_data['age_at_debut'] > 15) & (batting_data['age_at_debut'] < 40)]\n",
    "\n",
    "# Plot histogram with a density plot overlay\n",
    "plt.figure(figsize=(10, 6))\n",
    "plt.hist(batting_data['age_at_debut'], bins=20, color='lightgreen', edgecolor='black', alpha=0.7, density=True)\n",
    "batting_data['age_at_debut'].plot(kind='kde', color='blue', linewidth=2)\n",
    "\n",
    "# Calculate summary statistics\n",
    "mean_age = batting_data['age_at_debut'].mean()\n",
    "median_age = batting_data['age_at_debut'].median()\n",
    "std_dev_age = batting_data['age_at_debut'].std()\n",
    "\n",
    "# Add the vertical lines for mean and median\n",
    "plt.axvline(mean_age, color='red', linestyle='dashed', linewidth=1, label=f'Mean: {mean_age:.2f}')\n",
    "plt.axvline(median_age, color='green', linestyle='dashed', linewidth=1, label=f'Median: {median_age:.2f}')\n",
    "plt.axvline(mean_age + std_dev_age, color='blue', linestyle='dashed', linewidth=1, label=f'Std Dev: {std_dev_age:.2f}')\n",
    "\n",
    "# Set the x-axis limits to zoom in on valid debut ages\n",
    "plt.xlim(15, 40)\n",
    "\n",
    "# Add a legend with a box in the upper right corner\n",
    "plt.legend(loc='upper right', frameon=True, fontsize=10, title='Statistics')\n",
    "\n",
    "# Improve title, labels, and grid\n",
    "plt.title('Distribution of Age at Debut with Density Plot', fontsize=14)\n",
    "plt.xlabel('Age at Debut', fontsize=12)\n",
    "plt.ylabel('Density', fontsize=12)\n",
    "plt.tight_layout()\n",
    "plt.show()"
   ]
  },
  {
   "cell_type": "markdown",
   "id": "-OSBUYZB94q4",
   "metadata": {
    "id": "-OSBUYZB94q4"
   },
   "source": [
    "This graph represents the distribution of ages at which baseball players made their Major League debut. It provides both a histogram of the debut ages and a density plot for smoother interpretation.\n",
    "\n",
    "**Key Components:**\n",
    "\n",
    "**Histogram (Light Green Bars):**\n",
    "* The bars show the frequency (or density) of players debuting at different ages.\n",
    "* Most players make their debut between the ages of 20 and 30, with a clear peak around 24 to 26 years old.\n",
    "* This is the typical age range for players entering the major leagues after gaining some experience and training.\n",
    "\n",
    "**Density Plot (Blue Line):**\n",
    "* The blue line provides a smoothed version of the histogram, making it easier to observe the overall trend.\n",
    "* The density plot highlights the peak debut age and the gradual decline after the age of 30.\n",
    "\n",
    "**Vertical Lines:**\n",
    "* **Red Dashed Line:** Represents the mean age of 28.08 years, showing the average debut age across all players.\n",
    "* **Green Dashed Line:** Represents the median age of 28.00 years, indicating that half of the players debut before this age, and half debut after.\n",
    "* **Blue Dashed Line:** Shows one standard deviation from the mean, which is 4.15 years. This gives a sense of the spread or variability in debut ages.\n",
    "\n",
    "**Legend:**\n",
    "* The legend in the top right explains the vertical lines and their significance. It helps clarify the summary statistics, making the graph easier to interpret.\n",
    "\n",
    "**Key Insights:**\n",
    "* **Debut Age Distribution:** The most common debut age is between 24 and 26, which is expected as players usually develop their skills in the minor leagues or college before entering the majors.\n",
    "* **Peak and Decline:** After the age of 30, the number of debuting players drops significantly, which aligns with expectations since players tend to enter the league earlier in their careers.\n",
    "* **Variation:** The standard deviation (4.15 years) indicates a moderate variation in debut ages, but most players debut around their mid-20s.\n",
    "\n",
    "This graph provides a clear visual summary of how player ages at debut are distributed, with most players entering the major leagues in their mid-20s."
   ]
  }
 ],
 "metadata": {
  "colab": {
   "provenance": []
  },
  "kernelspec": {
   "display_name": "Python 3 (ipykernel)",
   "language": "python",
   "name": "python3"
  },
  "language_info": {
   "codemirror_mode": {
    "name": "ipython",
    "version": 3
   },
   "file_extension": ".py",
   "mimetype": "text/x-python",
   "name": "python",
   "nbconvert_exporter": "python",
   "pygments_lexer": "ipython3",
   "version": "3.9.16"
  }
 },
 "nbformat": 4,
 "nbformat_minor": 5
}
